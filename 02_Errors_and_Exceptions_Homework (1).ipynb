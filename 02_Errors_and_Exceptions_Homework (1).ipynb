{
  "cells": [
    {
      "cell_type": "markdown",
      "metadata": {
        "id": "9CwF97nvSulw"
      },
      "source": [
        "# Errors and Exceptions Homework"
      ]
    },
    {
      "cell_type": "markdown",
      "metadata": {
        "id": "ifhXBGhXSulx"
      },
      "source": [
        "### Problem 1\n",
        "Handle the exception thrown by the code below by using <code>try</code> and <code>except</code> blocks."
      ]
    },
    {
      "cell_type": "code",
      "execution_count": 2,
      "metadata": {
        "colab": {
          "base_uri": "https://localhost:8080/"
        },
        "id": "peFhtrrESuly",
        "outputId": "9ec2a182-2089-4961-997f-a2399a6d2226"
      },
      "outputs": [
        {
          "output_type": "stream",
          "name": "stdout",
          "text": [
            "Error: 'a' is not a valid operand for the power operation.\n",
            "Error: 'b' is not a valid operand for the power operation.\n",
            "Error: 'c' is not a valid operand for the power operation.\n"
          ]
        }
      ],
      "source": [
        "for i in ['a', 'b', 'c']:\n",
        "    try:\n",
        "        print(i**2)\n",
        "    except TypeError:\n",
        "        print(f\"Error: '{i}' is not a valid operand for the power operation.\")\n"
      ]
    },
    {
      "cell_type": "markdown",
      "metadata": {
        "id": "ANdHt78aSuly"
      },
      "source": [
        "### Problem 2\n",
        "Handle the exception thrown by the code below by using <code>try</code> and <code>except</code> blocks. Then use a <code>finally</code> block to print 'All Done.'"
      ]
    },
    {
      "cell_type": "code",
      "execution_count": 3,
      "metadata": {
        "colab": {
          "base_uri": "https://localhost:8080/"
        },
        "id": "m3a3MgoXSuly",
        "outputId": "a0897edb-e609-494e-80ef-2308ac324a1e"
      },
      "outputs": [
        {
          "output_type": "stream",
          "name": "stdout",
          "text": [
            "Error: Division by zero is not allowed.\n",
            "All Done.\n"
          ]
        }
      ],
      "source": [
        "x = 5\n",
        "y = 0\n",
        "\n",
        "try:\n",
        "    z = x / y\n",
        "except ZeroDivisionError:\n",
        "    print(\"Error: Division by zero is not allowed.\")\n",
        "finally:\n",
        "    print('All Done.')\n"
      ]
    },
    {
      "cell_type": "markdown",
      "metadata": {
        "id": "eJE-ZDntSuly"
      },
      "source": [
        "### Problem 3\n",
        "Write a function that asks for an integer and prints the square of it. Use a <code>while</code> loop with a <code>try</code>, <code>except</code>, <code>else</code> block to account for incorrect inputs."
      ]
    },
    {
      "cell_type": "code",
      "execution_count": 7,
      "metadata": {
        "collapsed": true,
        "id": "3XdiRQYTSuly"
      },
      "outputs": [],
      "source": [
        "def ask():\n",
        "    while True:\n",
        "        try:\n",
        "            # Ask the user for an integer\n",
        "            user_input = int(input(\"Please enter an integer: \"))\n",
        "        except ValueError:\n",
        "            # Handle the case where the input is not an integer\n",
        "            print(\"Invalid input. Please enter a valid integer.\")\n",
        "        else:\n",
        "            # If the input is valid, calculate and print the square\n",
        "            square = user_input ** 2\n",
        "            print(f\"The square of {user_input} is {square}.\")\n",
        "            break  # Exit the loop as the input is valid\n",
        "\n",
        "\n",
        "\n"
      ]
    },
    {
      "cell_type": "code",
      "execution_count": 8,
      "metadata": {
        "colab": {
          "base_uri": "https://localhost:8080/"
        },
        "id": "uleGg49sSuly",
        "outputId": "4ad3d5dc-dbac-42df-c037-8ff89f6488f0"
      },
      "outputs": [
        {
          "output_type": "stream",
          "name": "stdout",
          "text": [
            "Please enter an integer: 56\n",
            "The square of 56 is 3136.\n"
          ]
        }
      ],
      "source": [
        "ask()"
      ]
    },
    {
      "cell_type": "markdown",
      "metadata": {
        "id": "bhQsxYy5Sulz"
      },
      "source": [
        "# Great Job!"
      ]
    }
  ],
  "metadata": {
    "kernelspec": {
      "display_name": "Python 3",
      "language": "python",
      "name": "python3"
    },
    "language_info": {
      "codemirror_mode": {
        "name": "ipython",
        "version": 3
      },
      "file_extension": ".py",
      "mimetype": "text/x-python",
      "name": "python",
      "nbconvert_exporter": "python",
      "pygments_lexer": "ipython3",
      "version": "3.6.8"
    },
    "colab": {
      "provenance": []
    }
  },
  "nbformat": 4,
  "nbformat_minor": 0
}